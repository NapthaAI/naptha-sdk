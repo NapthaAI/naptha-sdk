{
  "cells": [
    {
      "cell_type": "markdown",
      "metadata": {},
      "source": [
        "# Naptha SDK: Getting Started\n",
        "\n",
        "The **[Naptha Python SDK](https://pypi.org/project/naptha-sdk/)** provides a unified interface for building and running multi-agent systems across distributed nodes. This notebook will walk you through:\n",
        "\n",
        "* [Installing and setting up](#setup) the Naptha SDK\n",
        "* [Authentication and configuration](#authentication)\n",
        "* [Exploring available nodes](#exploring-nodes)\n",
        "* [Working with agents](#working-with-agents)\n",
        "* [Managing tools](#managing-tools)\n",
        "* [Using orchestrators](#using-orchestrators)\n",
        "* [Working with knowledge bases](#working-with-knowledge-bases)\n",
        "* [Managing memory](#managing-memory)\n",
        "* [Using personas](#using-personas)\n",
        "* [Local model inference](#local-model-inference)\n",
        "* [Storage operations](#storage-operations)\n"
      ]
    },
    {
      "cell_type": "markdown",
      "metadata": {},
      "source": [
        "## Setup\n",
        "\n",
        "First, let's install the Naptha SDK:"
      ]
    },
    {
      "cell_type": "code",
      "execution_count": null,
      "metadata": {},
      "outputs": [],
      "source": [
        "%pip install naptha-sdk"
      ]
    },
    {
      "cell_type": "markdown",
      "metadata": {},
      "source": [
        "## Authentication\n",
        "\n",
        "Before using the SDK, you need to authenticate. If you don't have an account, you can create one using the CLI. For a quick guide, check out the [Create a New User](https://docs.naptha.ai/Tutorials/create-a-new-user) documentation.\n",
        "\n",
        "There are two ways to create an account:\n",
        "\n",
        "**Method 1: Interactive Signup (Recommended)**\n",
        "The simplest way is through the interactive CLI:\n",
        "\n",
        "```bash\n",
        "naptha signup\n",
        "```\n",
        "This will:\n",
        "- Guide you through username/password creation\n",
        "- Generate your cryptographic keypair\n",
        "- Automatically save credentials to `.env`\n",
        " \n",
        "**Method 2: Pre-configured Setup**\n",
        "If you prefer setting credentials beforehand:\n",
        " \n",
        "1. Edit your `.env` file:\n",
        "```bash\n",
        "HUB_USERNAME=your_username\n",
        "HUB_PASSWORD=your_password\n",
        "PRIVATE_KEY=your_private_key  # Optional - will be generated if not provided\n",
        "```\n",
        " \n",
        "2. Then run:\n",
        "```bash\n",
        "naptha signup\n",
        "```\n",
        " \n",
        "Once you have an account, set up your credentials:"
      ]
    },
    {
      "cell_type": "code",
      "execution_count": null,
      "metadata": {},
      "outputs": [],
      "source": [
        "#now let's test our auth credentials\n",
        "import os\n",
        "from naptha_sdk.client.naptha import Naptha\n",
        "\n",
        "# Option 1: Using environment variables\n",
        "os.environ[\"HUB_USER\"] = \"your_username\"\n",
        "os.environ[\"HUB_PASS\"] = \"your_password\"\n",
        "\n",
        "# Option 2: Direct authentication\n",
        "async def authenticate():\n",
        "    async with Naptha() as naptha:\n",
        "        await naptha.hub.signin(\"HUB_USER\", \"HUB_PASS\") #await naptha.hub.signin(os.getenv(\"HUB_USER\"), os.getenv(\"HUB_PASS\"))\n",
        "        return \"Authentication successful!\"\n",
        "\n",
        "# Run authentication\n",
        "import asyncio\n",
        "print(asyncio.run(authenticate()))"
      ]
    },
    {
      "cell_type": "markdown",
      "metadata": {},
      "source": [
        "Expected output:\n",
        "```\n",
        "Authentication successful!\n",
        "```\n",
        "The CLI typically returns the following upon successful authentication:\n",
        "```\n",
        "INFO - Attempting authentication for user: ****\n",
        "INFO - Successfully authenticated user: ****\n",
        "````"
      ]
    },
    {
      "cell_type": "markdown",
      "metadata": {},
      "source": [
        "## Exploring Nodes\n",
        "\n",
        "Let's see what nodes are available in the network:"
      ]
    },
    {
      "cell_type": "code",
      "execution_count": null,
      "metadata": {},
      "outputs": [],
      "source": [
        "async def list_nodes():\n",
        "    async with Naptha() as naptha:\n",
        "        await naptha.hub.signin(os.getenv(\"HUB_USER\"), os.getenv(\"HUB_PASS\"))\n",
        "        nodes = await naptha.hub.list_nodes()\n",
        "        return nodes\n",
        "\n",
        "nodes = asyncio.run(list_nodes())\n",
        "print(\"Available Nodes:\" )\n",
        "# now let's print the nodes by extracting key details\n",
        "for node in nodes:\n",
        "    print(f\"- ID: {node['id'][:15]}...\")\n",
        "    print(f\"  IP: {node['ip']}\")\n",
        "    print(f\"  OS: {node['os']}\")\n",
        "    print(f\"  Architecture: {node['arch']}\")\n",
        "    print(f\"  Models: {', '.join(node['models'])}\")\n",
        "    print(f\"  Provider Types: {', '.join(node['provider_types'])}\")\n",
        "    print(f\"  RAM: {node['ram'] / (1024**3):.2f} GB\")\n",
        "    print(f\"  GPUs: {node['num_gpus']}\")\n",
        "    print()"
      ]
    },
    {
      "cell_type": "markdown",
      "metadata": {},
      "source": [
        "Sample output for Available Nodes:\n",
        "```\n",
        "- ID: node:90875a428e...\n",
        "  IP: node.naptha.ai\n",
        "  OS: Linux\n",
        "  Architecture: x86_64\n",
        "  Models: phi3:mini\n",
        "  Provider Types: models, storage, modules\n",
        "  RAM: 15.61 GB\n",
        "  GPUs: 0\n",
        "```"
      ]
    },
    {
      "cell_type": "markdown",
      "metadata": {},
      "source": [
        "## Working with Agents\n",
        "\n",
        "### List Available Agents"
      ]
    },
    {
      "cell_type": "code",
      "execution_count": null,
      "metadata": {},
      "outputs": [],
      "source": [
        "async def list_agents():\n",
        "    async with Naptha() as naptha:\n",
        "        await naptha.hub.signin(os.getenv(\"HUB_USER\"), os.getenv(\"HUB_PASS\"))\n",
        "        agents = await naptha.hub.list_agents()\n",
        "        return agents\n",
        "\n",
        "agents = asyncio.run(list_agents())\n",
        "print(\"Available Agents:\")\n",
        "for agent in agents:\n",
        "    print(f\"- Name: {agent['name']}\")\n",
        "    print(f\"  Description: {agent['description']}\")\n",
        "    print(f\"  Type: {agent['execution_type']}\")\n",
        "    print(f\"  Version: {agent['module_version']}\")\n",
        "    print(f\"  URL: {agent['module_url']}\")\n",
        "    print(f\"  Parameters: {agent['parameters']}\")\n",
        "    print()"
      ]
    },
    {
      "cell_type": "markdown",
      "metadata": {},
      "source": [
        "Sample output for available Agents:\n",
        "\n",
        "- Name: random_number_agent\n",
        "  Description: A simple agent for taking part in Keynesian beauty contests\n",
        "  Type: package\n",
        "  Version: v0.5\n",
        "  URL: https://github.com/NapthaAI/random_number_agent\n",
        "  Parameters: {agent_name: str}"
      ]
    },
    {
      "cell_type": "markdown",
      "metadata": {},
      "source": [
        "### Run Simple Chat Agent"
      ]
    },
    {
      "cell_type": "code",
      "execution_count": null,
      "metadata": {},
      "outputs": [],
      "source": [
        "async def run_simple_chat_agent(question):\n",
        "    async with Naptha() as naptha:\n",
        "        await naptha.hub.signin(os.getenv(\"HUB_USER\"), os.getenv(\"HUB_PASS\"))\n",
        "        \n",
        "        # Check/register user\n",
        "        user = await naptha.node.check_user({\"public_key\": naptha.hub.public_key})\n",
        "        if not user:\n",
        "            user = await naptha.node.register_user({\"public_key\": naptha.hub.public_key})\n",
        "        \n",
        "        agent_run_input = {\n",
        "            'consumer_id': user['id'],\n",
        "            \"inputs\": {\n",
        "                'tool_name': 'chat',\n",
        "                'tool_input_data': question\n",
        "            },\n",
        "            \"agent_deployment\": {\n",
        "                \"name\": \"simple_chat_agent\",\n",
        "                \"module\": {\n",
        "                    \"name\": \"simple_chat_agent\"\n",
        "                },\n",
        "                \"worker_node_url\": \"http://node.naptha.ai:7001\" #Naptha's hosted node\n",
        "            }\n",
        "        }\n",
        "        \n",
        "        return await naptha.node.run_agent_and_poll(agent_run_input)\n",
        "\n",
        "# Example usage\n",
        "result = asyncio.run(run_simple_chat_agent(\"What is artificial intelligence?\"))\n",
        "print(\"Agent Response:\", result.results[0] if result.results else \"No response\")"
      ]
    },
    {
      "cell_type": "markdown",
      "metadata": {},
      "source": [
        "## Managing Tools\n",
        "\n",
        "### List Available Tools"
      ]
    },
    {
      "cell_type": "code",
      "execution_count": null,
      "metadata": {},
      "outputs": [],
      "source": [
        "async def list_tools():\n",
        "    async with Naptha() as naptha:\n",
        "        await naptha.hub.signin(os.getenv(\"HUB_USER\"), os.getenv(\"HUB_PASS\"))\n",
        "        tools = await naptha.hub.list_tools()\n",
        "        return tools\n",
        "\n",
        "tools = asyncio.run(list_tools())\n",
        "print(\"Available Tools:\")\n",
        "for tool in tools:\n",
        "    print(f\"- Name: {tool['name']}\")\n",
        "    print(f\"  Description: {tool['description']}\")\n",
        "    print(f\"  Parameters: {tool['parameters']}\")"
      ]
    },
    {
      "cell_type": "markdown",
      "metadata": {},
      "source": [
        "## Managing Knowledge Bases\n",
        "\n",
        "### List Available Knowledge Bases"
      ]
    },
    {
      "cell_type": "code",
      "execution_count": null,
      "metadata": {},
      "outputs": [],
      "source": [
        "async def list_kbs():\n",
        "    async with Naptha() as naptha:\n",
        "        await naptha.hub.signin(os.getenv(\"HUB_USER\"), os.getenv(\"HUB_PASS\"))\n",
        "        kbs = await naptha.hub.list_kbs(kb_name=kb_name) #e.g kb_name=\"wikipedia_kb\"\n",
        "        return kbs\n",
        "\n",
        "kbs = asyncio.run(list_kbs())\n",
        "print(\"Available Knowledge Bases:\")\n",
        "for kb in kbs:\n",
        "    print(f\"- Name: {kb['name']}\")\n",
        "    print(f\"  Description: {kb['description']}\")\n",
        "    print(f\"  Parameters: {kb['parameters']}\")"
      ]
    },
    {
      "cell_type": "markdown",
      "metadata": {},
      "source": [
        "## Managing Memory Modules\n",
        "\n",
        "### List Available Memory Modules"
      ]
    },
    {
      "cell_type": "code",
      "execution_count": null,
      "metadata": {},
      "outputs": [],
      "source": [
        "async def list_memories():\n",
        "    async with Naptha() as naptha:\n",
        "        await naptha.hub.signin(os.getenv(\"HUB_USER\"), os.getenv(\"HUB_PASS\"))\n",
        "        memories = await naptha.hub.list_memories(memory_name=memory_name) #e.g memory_name=\"cognitive_memory\"\n",
        "        return memories\n",
        "\n",
        "memories = asyncio.run(list_memories())\n",
        "print(\"Available Memories:\")\n",
        "for memory in memories:\n",
        "    print(f\"- Name: {memory['name']}\")\n",
        "    print(f\"  Description: {memory['description']}\")\n",
        "    print(f\"  Parameters: {memory['parameters']}\")"
      ]
    },
    {
      "cell_type": "markdown",
      "metadata": {},
      "source": [
        "## Managing Personas\n",
        "\n",
        "### List Available Persona Modules"
      ]
    },
    {
      "cell_type": "code",
      "execution_count": null,
      "metadata": {},
      "outputs": [],
      "source": [
        "async def list_personas():\n",
        "    async with Naptha() as naptha:\n",
        "        await naptha.hub.signin(os.getenv(\"HUB_USER\"), os.getenv(\"HUB_PASS\"))\n",
        "        personas = await naptha.hub.list_personas()\n",
        "        return personas\n",
        "\n",
        "personas = asyncio.run(list_personas())\n",
        "print(\"Available Personas:\")\n",
        "for persona in personas:\n",
        "    print(f\"- Name: {persona['name']}\")\n",
        "    print(f\"  Description: {persona['description']}\")\n",
        "    print(f\"  Parameters: {persona['parameters']}\")\n",
        "        "
      ]
    },
    {
      "cell_type": "markdown",
      "metadata": {},
      "source": [
        "## Managing Orchestrators\n",
        "\n",
        "### List Available Orchestrators"
      ]
    },
    {
      "cell_type": "code",
      "execution_count": null,
      "metadata": {},
      "outputs": [],
      "source": [
        "async def list_orchestrators():\n",
        "    async with Naptha() as naptha:\n",
        "        await naptha.hub.signin(os.getenv(\"HUB_USER\"), os.getenv(\"HUB_PASS\"))\n",
        "        orchestrators = await naptha.hub.list_orchestrators()\n",
        "        return orchestrators\n",
        "\n",
        "orchestrators = asyncio.run(list_orchestrators())\n",
        "print(\"Available Orchestrators:\")\n",
        "for orchestrator in orchestrators:\n",
        "    print(f\"- Name: {orchestrator['name']}\")\n",
        "    print(f\"  Description: {orchestrator['description']}\")\n",
        "    print(f\"  Parameters: {orchestrator['parameters']}\")"
      ]
    },
    {
      "cell_type": "markdown",
      "metadata": {},
      "source": [
        "## Local Model Inference\n",
        "\n",
        "### Run Inference with Local Models on Naptha Nodes"
      ]
    },
    {
      "cell_type": "code",
      "execution_count": null,
      "metadata": {},
      "outputs": [],
      "source": [
        "from naptha_sdk.schemas import ChatCompletionRequest\n",
        "\n",
        "async def run_local_inference(prompt, model=\"phi3:mini\"):\n",
        "    async with Naptha() as naptha:\n",
        "        await naptha.hub.signin(os.getenv(\"HUB_USER\"), os.getenv(\"HUB_PASS\"))\n",
        "        messages = [\n",
        "            {\"role\": \"system\", \"content\": \"You are a helpful assistant.\"},\n",
        "            {\"role\": \"user\", \"content\": prompt}\n",
        "        ]\n",
        "        req = ChatCompletionRequest(\n",
        "            model=model,\n",
        "            messages=messages\n",
        "        )\n",
        "        res = await naptha.node.run_inference(req)\n",
        "        return res['choices'][0]['message']['content']\n",
        "\n",
        "# Example usage\n",
        "response = asyncio.run(run_local_inference(\"Explain the concept of multi-agent systems.\"))\n",
        "print(\"Model Response:\", response)"
      ]
    },
    {
      "cell_type": "markdown",
      "metadata": {},
      "source": [
        "## Storage Operations\n",
        "\n",
        "### Working with Different Storage Types\n",
        " \n",
        "The Naptha Storage API provides a unified interface for working with different storage backends on Naptha Nodes:\n",
        "\n",
        "- **Filesystem Storage**: For storing and managing files and directories\n",
        "- **Database Storage**: For structured data storage with support for SQL databases\n",
        "- **IPFS Storage**: For decentralized content-addressed storage\n",
        "\n",
        "For example, let's create a table in a database storage provider."
      ]
    },
    {
      "cell_type": "code",
      "execution_count": null,
      "metadata": {},
      "outputs": [],
      "source": [
        "import asyncio\n",
        "from naptha_sdk.schemas import NodeConfigUser\n",
        "from naptha_sdk.storage.storage_provider import StorageProvider\n",
        "from naptha_sdk.storage.schemas import CreateStorageRequest, StorageType\n",
        "\n",
        "node = NodeConfigUser(ip=\"node.naptha.ai\", http_port=7001, server_type=\"http\")\n",
        "storage_provider = StorageProvider(node)\n",
        "\n",
        "schema = {\n",
        "    \"schema\": {\n",
        "        \"id\": {\"type\": \"TEXT\", \"primary_key\": True},\n",
        "        \"text\": {\"type\": \"TEXT\", \"required\": True},\n",
        "        \"embedding\": {\"type\": \"vector\", \"dimension\": 384}\n",
        "    }\n",
        "}\n",
        "\n",
        "create_table_request = CreateStorageRequest(\n",
        "    storage_type=StorageType.DATABASE,\n",
        "    path=\"test_embeddings\",\n",
        "    data=schema\n",
        ")\n",
        "\n",
        "create_table_result = asyncio.run(storage_provider.create_storage_object(create_table_request))\n",
        "print(\"Create Table Result:\", create_table_result)"
      ]
    },
    {
      "cell_type": "markdown",
      "metadata": {},
      "source": [
        "## Next Steps\n",
        "\n",
        "Now that you're familiar with the basics of the Naptha SDK, you can:\n",
        "\n",
        "1. Explore the interactive SDK Playground to experiment with listed NapthaSDK features (try it [here](https://naptha-sdk-demo.streamlit.app/))\n",
        "2. Read the comprehensive SDK reference documentation in the [Naptha docs](https://docs.naptha.ai/) to learn about all available functionalities.\n",
        "3. Join the [Naptha community](https://naptha.ai/naptha-community) to get help, share your projects, and connect with other developers\n",
        "4. Stay up to date with the latest Naptha news and updates by following us on [Twitter](https://twitter.com/NapthaAI) and [Farcaster](https://warpcast.com/naptha)\n"
      ]
    }
  ],
  "metadata": {
    "kernelspec": {
      "display_name": "Python 3",
      "language": "python",
      "name": "python3"
    },
    "language_info": {
      "codemirror_mode": {
        "name": "ipython",
        "version": 3
      },
      "file_extension": ".py",
      "mimetype": "text/x-python",
      "name": "python",
      "nbconvert_exporter": "python",
      "pygments_lexer": "ipython3",
      "version": "3.9.0"
    }
  },
  "nbformat": 4,
  "nbformat_minor": 4
}
